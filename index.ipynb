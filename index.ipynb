{
 "cells": [
  {
   "cell_type": "markdown",
   "metadata": {},
   "source": [
    "# SQL Interview Questions - Lab\n",
    "\n",
    "## Introduction\n",
    "\n",
    "In this lab, we'll test our SQL skills against some real-world interview questions from major companies!\n",
    "\n",
    "## Objectives\n",
    "\n",
    "You will be able to:\n",
    "\n",
    "* Practice your SQL knowledge\n",
    "\n",
    "## Getting Started\n",
    "\n",
    "In this lab, we'll see 4 different interview questions that test your SQL knowledge. We didn't write these questions--instead, we found them out in the real-world. These are questions that have been used in the past by major technology companies such as Facebook, Amazon, and Google. Our goal here isn't to memorize the questions or anything like that--after all, it's extremely unlikely that these questions are still in use, now that they've become publicly available on the interwebs. Instead, our goal is to treat these questions as if they are the real thing, and give us some insight into the types of questions we'll need to be able to answer in order pass an interview involving SQL. \n",
    "\n",
    "If these questions seem hard to you, don't sweat it--they're supposed to be tough! These are meant to help you identify any areas of knowledge where you still need to grow! Use these questions as a way to see where your SQL knowledge is strong, and where it's a bit weak. Then, go study and **practice** in the areas where you still need work!\n",
    "\n",
    "### A Note on Answering These Questions\n",
    "\n",
    "Since these are interview questions, they'll almost always be posed as hypotheticals. This means that you won't have a real database to work with and test your code on.  This also means that there are multiple different solutions to any given problem listed here. Be sure to doublecheck the code you write for bugs and errors--it's much harder to write bug-free code when you aren't able to test it against a database!\n",
    "\n",
    "If these questions seem hard, that's normal. These are real questions that have been reported to online forums from job seekers at major companies such as Facebook, Amazon, and Twitter. Obviously, it's unlikely that they're still in use at these companies, but they still represent a great way for us to test our skills against the kinds of questions we can expect to be asked in an interview!\n",
    "\n",
    "## Question 1\n",
    "\n",
    "From Facebook:\n",
    "\n",
    "Assume we have a table of employee information, which includes salary information. Write a query to find the names and salaries of the top 5 highest paid employees, in descending order."
   ]
  },
  {
   "cell_type": "code",
   "execution_count": 1,
   "metadata": {},
   "outputs": [],
   "source": [
    "# Your code here\n",
    "\n",
    "#import sqlite3\n",
    "#import pandas as pd\n",
    "\n",
    "#conn = sqlite3.connect('db')\n",
    "#c = conn.cursor()\n",
    "\n",
    "#c.execute('''SELECT name, salary\n",
    "             #FROM table\n",
    "             #ORDER BY salary DESC\n",
    "             #LIMIT 5;\n",
    "             #''')\n",
    "\n",
    "#df = pd.DataFrame(c.fetchall())\n",
    "#df.columns = [i[0] for i in c.description]\n",
    "#df"
   ]
  },
  {
   "cell_type": "code",
   "execution_count": 2,
   "metadata": {},
   "outputs": [],
   "source": [
    "#import sqlite3\n",
    "#import pandas as pd\n",
    "\n",
    "#conn = sqlite3.connect('db')\n",
    "#c = conn.cursor()\n",
    "\n",
    "#c.execute('''SELECT name, (salary+bonus)*24 AS total_comp\n",
    "             #FROM table\n",
    "             #ORDER BY total_comp DESC\n",
    "             #LIMIT 5;\n",
    "             #''')\n",
    "\n",
    "#df = pd.DataFrame(c.fetchall())\n",
    "#df.columns = [i[0] for i in c.description]\n",
    "#df"
   ]
  },
  {
   "cell_type": "markdown",
   "metadata": {},
   "source": [
    "## Question 2\n",
    "\n",
    "From Amazon:\n",
    "\n",
    "Assume we have two SQL tables: **_authors_** and **_books_**. The authors table has a few million rows, and looks like this: \n",
    "\n",
    "| author_name | book_name |\n",
    "|:-----------:|:---------:|\n",
    "|   author_1  |   book_1  |\n",
    "|   author_1  |   book_2  |\n",
    "|   author_2  |   book_3  |\n",
    "|   author_2  |   book_4  |\n",
    "|   author_2  |   book_5  |\n",
    "|   author_3  |   book_6  |\n",
    "\n",
    "The books dataset also has a few million rows, and looks like this:\n",
    "\n",
    "| book_name | copies_sold |\n",
    "|:---------:|:-----------:|\n",
    "|   book_1  |    10000    |\n",
    "|   book_2  |     2575    |\n",
    "|   book_3  |    60000    |\n",
    "|   book_4  |    98000    |\n",
    "|   book_5  |     5250    |\n",
    "|   book_6  |    19775    |\n",
    "\n",
    "Write an SQL query that shows the top 3 authors who sold the most total books. "
   ]
  },
  {
   "cell_type": "code",
   "execution_count": 3,
   "metadata": {},
   "outputs": [],
   "source": [
    "# Your code here\n",
    "#import sqlite3\n",
    "#import pandas as pd\n",
    "\n",
    "#conn = sqlite3.connect('db')\n",
    "#c = conn.cursor()\n",
    "\n",
    "#c.execute('''SELECT author_name, SUM(copies_sold)\n",
    "             #FROM books\n",
    "             #JOIN authors USING(book_name)\n",
    "             #GROUP BY author_name;\n",
    "             #''')\n",
    "\n",
    "#df = pd.DataFrame(c.fetchall())\n",
    "#df.columns = [i[0] for i in c.description]\n",
    "#df"
   ]
  },
  {
   "cell_type": "markdown",
   "metadata": {},
   "source": [
    "## Question 3\n",
    "\n",
    "From Amazon:\n",
    "\n",
    "Assume you have two tables, `customers` and `orders`. Write an SQL query to select all customers who purchased at least 2 items on two separate days. "
   ]
  },
  {
   "cell_type": "code",
   "execution_count": 4,
   "metadata": {},
   "outputs": [],
   "source": [
    "# Your code here\n",
    "#import sqlite3\n",
    "#import pandas as pd\n",
    "\n",
    "#conn = sqlite3.connect('db')\n",
    "#c = conn.cursor()\n",
    "\n",
    "#c.execute('''SELECT custID, custName\n",
    "             #FROM customers\n",
    "             #WHERE custID IN (SELECT custID\n",
    "                              #FROM orders\n",
    "                              #GROUP BY custID, orderDate\n",
    "                              #HAVING quantityOrdered > 2);\n",
    "             #''')\n",
    "\n",
    "#df = pd.DataFrame(c.fetchall())\n",
    "#df.columns = [i[0] for i in c.description]\n",
    "#df"
   ]
  },
  {
   "cell_type": "markdown",
   "metadata": {},
   "source": [
    "## Question 4\n",
    "\n",
    "From Twitter:\n",
    "\n",
    "A company uses 2 data tables, Employee and Department, to store data about its employees and departments. \n",
    "\n",
    "Table Name: Employee   \n",
    "Attributes:   \n",
    "ID Integer,   \n",
    "NAME String,   \n",
    "SALARY Integer,   \n",
    "DEPT_ID Integer   \n",
    "\n",
    "Table Name: Department   \n",
    "Attributes:   \n",
    "DEPT_ID Integer,   \n",
    "NAME String,   \n",
    "LOCATION String   \n",
    "\n",
    "Write a query to print the respective Department Name and number of employees for all departments in the Department table (even unstaffed ones). \n",
    "\n",
    "Sort your result in descending order of employees per department; if two or more departments have the same number of employees, then sort those departments alphabetically by Department Name."
   ]
  },
  {
   "cell_type": "code",
   "execution_count": 5,
   "metadata": {},
   "outputs": [],
   "source": [
    "# Your code here\n",
    "#import sqlite3\n",
    "#import pandas as pd\n",
    "\n",
    "#conn = sqlite3.connect('db')\n",
    "#c = conn.cursor()\n",
    "\n",
    "#c.execute('''SELECT name, SUM(DISTINCT ID) AS e_per_d\n",
    "             #FROM Department d\n",
    "             #FULL JOIN Employee d ON d.Dept_ID = e.Dept_ID\n",
    "             #ORDER BY e_per_d DESC, d.name;\n",
    "             #''')\n",
    "\n",
    "#df = pd.DataFrame(c.fetchall())\n",
    "#df.columns = [i[0] for i in c.description]\n",
    "#df"
   ]
  },
  {
   "cell_type": "markdown",
   "metadata": {},
   "source": [
    "## Summary\n",
    "\n",
    "In this lab, we tested our knowledge of SQL queries against some real-world interview questions!"
   ]
  }
 ],
 "metadata": {
  "kernelspec": {
   "display_name": "Python 3",
   "language": "python",
   "name": "python3"
  },
  "language_info": {
   "codemirror_mode": {
    "name": "ipython",
    "version": 3
   },
   "file_extension": ".py",
   "mimetype": "text/x-python",
   "name": "python",
   "nbconvert_exporter": "python",
   "pygments_lexer": "ipython3",
   "version": "3.6.6"
  }
 },
 "nbformat": 4,
 "nbformat_minor": 2
}
